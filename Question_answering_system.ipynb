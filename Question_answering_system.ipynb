{
 "cells": [
  {
   "cell_type": "markdown",
   "metadata": {},
   "source": [
    "## Question Answering System\n",
    "### Team 6 \n",
    "#### Amit Raj, Rakesh Subramani Kaleeshwaran, Abinash Vasudevan "
   ]
  },
  {
   "cell_type": "code",
   "execution_count": 1,
   "metadata": {},
   "outputs": [],
   "source": [
    "## Importing libraries\n",
    "\n",
    "import wikipedia\n",
    "import lxml\n",
    "from nltk import ne_chunk, pos_tag, word_tokenize\n",
    "from nltk.chunk import tree2conlltags                          \n",
    "from nltk.corpus import stopwords                              \n",
    "from datetime import datetime\n",
    "import sys\n",
    "import os\n",
    "import re\n",
    "import nltk"
   ]
  },
  {
   "cell_type": "code",
   "execution_count": 2,
   "metadata": {},
   "outputs": [],
   "source": [
    "## Defining the main function\n",
    "\n",
    "def main():\n",
    "    try:\n",
    "        file=open(sys.argv[1], \"w+\")\n",
    "        print(\"Hello! This is a question answering system by Team 6. Please type your query. If you are done, Please type 'Exit' to leave the program.\")  \n",
    "        \n",
    "        while True:\n",
    "            ans=\"\"\n",
    "            wiki_ans=\"\"\n",
    "            person=False\n",
    "            ques=input(\"Hello! Please enter your query?\\n \")\n",
    "            file.write(ques + \"\\n\")\n",
    "            \n",
    "            if ques == \"exit\":\n",
    "                exit()\n",
    "                break\n",
    "            if ques != \"\" and ques is not None:\n",
    "                ques=ques.title()\n",
    "                nertree=nertree_generation(ques)\n",
    "                regmatch=ques_processing(ques)\n",
    "                if regmatch != \"\":\n",
    "                    if (\"Where\" in ques or \"What\" in ques):\n",
    "                        wiki_ans=wiki_data(regmatch, file)\n",
    "                        similarity=re.search(r'\\d{4}', wiki_ans)\n",
    "                        if similarity is not None:\n",
    "                            wiki_ans= \"\"\n",
    "                            \n",
    "                    if('B-PERSON' or 'I-PERSON') in nertree[2]:\n",
    "                        person=True\n",
    "                    elif ('I-PERSON' or 'B-PERSON') in nertree[2]:\n",
    "                        person = True\n",
    "                    if \"Who\" in ques and person:\n",
    "                        wiki_ans=wiki_data(regmatch, file)\n",
    "                    \n",
    "                    if(\"When\" in ques or \"Age\" in ques) and person:\n",
    "                        wiki_ans=wiki_data(regmatch, file)\n",
    "                        ques_result = query_processing(wiki_ans)\n",
    "                        if ques_result != \"\":\n",
    "                            if \"Age\" in ques:\n",
    "                                similarity=re.search(r'\\d{4}', ques_result)\n",
    "                                if similarity is not None:\n",
    "                                    ques_result=datetime.now().year - int(similarity.group())\n",
    "                            append_user_res=changing_regx_patt(ques, ques_result)\n",
    "                            if append_user_res is not None:\n",
    "                                ans=append_user_res\n",
    "                        else:\n",
    "                            ans=\"\"\n",
    "                    else:\n",
    "                        ans=wiki_ans\n",
    "                else:\n",
    "                    ans=\"\"\n",
    "            else:\n",
    "                print(\"Enter a valid question\")\n",
    "            if ans ==\"\":\n",
    "                print(\"Oops ! Answer not found\")\n",
    "            else:\n",
    "                print(ans)\n",
    "            file.write(ans + \"\\n\")\n",
    "            \n",
    "    except Exception as GeneralException:\n",
    "        print(GeneralException)\n",
    "    finally:\n",
    "        file.close()\n",
    "                        \n",
    "            "
   ]
  },
  {
   "cell_type": "code",
   "execution_count": 3,
   "metadata": {},
   "outputs": [],
   "source": [
    "#### Processing questions\n",
    "\n",
    "def ques_processing(ques):\n",
    "    query_exp=\"\"\n",
    "    patterns = [\n",
    "        \n",
    "        [r'Who (Is|Was) (.+)',\n",
    "         [\"{0}\"]],\n",
    "        \n",
    "        [r'Where (Is|Was) (.+)',\n",
    "         [\"{0}\"]],\n",
    "\n",
    "        [r'What (Is|Was) (.+)',\n",
    "         [\"{0}\"]],\n",
    "        \n",
    "         [r'When (Is|Was) (.+)',\n",
    "         [\"{0}\"]],\n",
    "        \n",
    "        [r'Why (Is|Was) (.+)',\n",
    "         [\"{0}\"]],\n",
    "\n",
    "        [r'What (Is|Was) (.+) Age',\n",
    "         [\"{0}\"]],\n",
    "\n",
    "        [r'When (Is|Was) (.+) Birthday',\n",
    "         [\"{0}\"]]\n",
    "\n",
    "    ]\n",
    "    \n",
    "## Retrieving query subject\n",
    "\n",
    "    for regx_patt, queries in patterns:\n",
    "        similarity=re.match(regx_patt, ques.rstrip('.!?'))\n",
    "        if similarity:\n",
    "            query_exp=similarity.groups()[1]\n",
    "            \n",
    "    return query_exp"
   ]
  },
  {
   "cell_type": "code",
   "execution_count": 4,
   "metadata": {},
   "outputs": [],
   "source": [
    "## Retriving summary from Wikipedia\n",
    "\n",
    "def wiki_data(query,file):\n",
    "    try:\n",
    "        file.write(query + \"\\n\")\n",
    "        ques_result=wikipedia.summary(query, sentences=1)\n",
    "        file.write(ques_result + \"\\n\")\n",
    "    except Exception as GeneralException:\n",
    "        ques_result=\"\"\n",
    "    return ques_result\n",
    "        \n",
    "        "
   ]
  },
  {
   "cell_type": "code",
   "execution_count": 5,
   "metadata": {},
   "outputs": [],
   "source": [
    "## Using regular expressions for processing the entered queries\n",
    "\n",
    "def query_processing(wiki_ans):\n",
    "    query_exp=\"\"\n",
    "    patterns=[\n",
    "\n",
    "        [r'[\\d]+\\s(\\w)+\\s[\\d]+',\n",
    "         [\"{0}\"]],\n",
    "\n",
    "        [r'(?<=\\().(\\w+).(\\w+,).(\\w+)',\n",
    "         [\"{0}\"]]\n",
    "        \n",
    "    ]\n",
    "    \n",
    "    for regx_patt, queries in patterns:\n",
    "        similarity=re.search(regx_patt, wiki_ans)\n",
    "        if similarity is not None:\n",
    "            query_exp=similarity.group()\n",
    "    return query_exp"
   ]
  },
  {
   "cell_type": "code",
   "execution_count": 6,
   "metadata": {},
   "outputs": [],
   "source": [
    "## Extracting answers using meaningful sentences\n",
    "\n",
    "def changing_regx_patt(user_Question,ques_result):\n",
    "    user_Question=user_Question.rstrip('.!?')\n",
    "    ques=re.sub(r'When (Is|Was) (.+) Born', r'\\2 Was Born On ', user_Question)\n",
    "    if ques != user_Question:\n",
    "        return ques + str(ques_result) + '.'\n",
    "    ques=re.sub(r'When (Is|Was) (.+) Birthday', r'\\2 Birthday Is On ', user_Question)\n",
    "    if ques != user_Question:\n",
    "        ques= ques + ques_result\n",
    "        ques= re.sub(r'\\d{4}', '', ques)\n",
    "        return ques + '.'\n",
    "    ques = re.sub(r'What (Is|Was) (.+) Age', r'\\2 Age Is ', user_Question)\n",
    "    if ques != user_Question:\n",
    "        return ques + str(ques_result) + '.'\n",
    "\n",
    "    ### function for retrieving birthday , age of person form wikipedia"
   ]
  },
  {
   "cell_type": "code",
   "execution_count": 7,
   "metadata": {},
   "outputs": [],
   "source": [
    "## Exit the program\n",
    "\n",
    "def exit():\n",
    "    print(\"Thankyou! Hope you got your queries answered.\")"
   ]
  },
  {
   "cell_type": "code",
   "execution_count": 8,
   "metadata": {
    "scrolled": true
   },
   "outputs": [],
   "source": [
    "## Generating ntrees\n",
    "\n",
    "def nertree_generation(ques):\n",
    "    ques_tokens=word_tokenize(ques)\n",
    "    stopWords=set(stopwords.words('english'))\n",
    "    stopWords.add('?')\n",
    "    stopWords.add('!')\n",
    "    array_ques=[]\n",
    "    for word in ques_tokens:\n",
    "        if word not in stopWords:\n",
    "            array_ques.append(word)\n",
    "    nertree=tree2conlltags(ne_chunk(pos_tag(word_tokenize(ques))))\n",
    "    return nertree"
   ]
  },
  {
   "cell_type": "markdown",
   "metadata": {},
   "source": [
    "### Calling main function  "
   ]
  },
  {
   "cell_type": "code",
   "execution_count": null,
   "metadata": {
    "scrolled": true
   },
   "outputs": [
    {
     "name": "stdout",
     "output_type": "stream",
     "text": [
      "Hello! This is a question answering system by Team 6. Please type your query. If you are done, Please type 'Exit' to leave the program.\n",
      "Hello! Please enter your query?\n",
      " who is donald trump?\n",
      "Donald John Trump (born June 14, 1946) is an American media personality and businessman who served as the 45th president of the United States from 2017 to 2021.\n"
     ]
    }
   ],
   "source": [
    "main()"
   ]
  }
 ],
 "metadata": {
  "kernelspec": {
   "display_name": "Python 3",
   "language": "python",
   "name": "python3"
  },
  "language_info": {
   "codemirror_mode": {
    "name": "ipython",
    "version": 3
   },
   "file_extension": ".py",
   "mimetype": "text/x-python",
   "name": "python",
   "nbconvert_exporter": "python",
   "pygments_lexer": "ipython3",
   "version": "3.7.6"
  }
 },
 "nbformat": 4,
 "nbformat_minor": 4
}
